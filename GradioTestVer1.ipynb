{
  "cells": [
    {
      "cell_type": "markdown",
      "source": [
        "#1. **Installing Needed Dependencies**"
      ],
      "metadata": {
        "id": "F_e30qLRF9DI"
      }
    },
    {
      "cell_type": "code",
      "source": [
        "!pip3 install torch"
      ],
      "metadata": {
        "id": "Idf4Nb0SGPzz"
      },
      "execution_count": null,
      "outputs": []
    },
    {
      "cell_type": "code",
      "source": [
        "!pip3 install torchvision"
      ],
      "metadata": {
        "id": "Z4vum5jkGa5J"
      },
      "execution_count": null,
      "outputs": []
    },
    {
      "cell_type": "code",
      "source": [
        "!pip3 install torchaudio"
      ],
      "metadata": {
        "id": "5EQYvwusGdq-"
      },
      "execution_count": null,
      "outputs": []
    },
    {
      "cell_type": "code",
      "source": [
        "!pip3 install tensorflow"
      ],
      "metadata": {
        "id": "hb4POsvFGfcr"
      },
      "execution_count": null,
      "outputs": []
    },
    {
      "cell_type": "code",
      "source": [
        "!pip3 install transformers"
      ],
      "metadata": {
        "id": "bccBkn3IGhGJ"
      },
      "execution_count": null,
      "outputs": []
    },
    {
      "cell_type": "code",
      "source": [
        "!pip3 install sentencepiece"
      ],
      "metadata": {
        "id": "dwpQp-tUGixN"
      },
      "execution_count": null,
      "outputs": []
    },
    {
      "cell_type": "code",
      "source": [
        "!pip3 install ipywidgets"
      ],
      "metadata": {
        "id": "I-TRmFoZGkne"
      },
      "execution_count": null,
      "outputs": []
    },
    {
      "cell_type": "code",
      "source": [
        "!pip3 install gradio==2.9.4"
      ],
      "metadata": {
        "id": "LVbRO5FiGmOn"
      },
      "execution_count": null,
      "outputs": []
    },
    {
      "cell_type": "markdown",
      "source": [
        "#2. **Importing the Trained Transformer**"
      ],
      "metadata": {
        "id": "-I6eK9d7GtEc"
      }
    },
    {
      "cell_type": "code",
      "source": [
        "import gradio as gr\n",
        "from transformers import pipeline"
      ],
      "metadata": {
        "id": "bOIeuOQdHQ8Q"
      },
      "execution_count": 9,
      "outputs": []
    },
    {
      "cell_type": "code",
      "source": [
        "model_checkpoint_en2fil = \"SalamaThanks/SalamaThanksTransformer_en2fil_v1\"\n",
        "model_checkpoint_fil2en = \"SalamaThanks/SalamaThanksTransformer_fil2en_v1\""
      ],
      "metadata": {
        "id": "73i5xy4nHVvi"
      },
      "execution_count": 10,
      "outputs": []
    },
    {
      "cell_type": "code",
      "source": [
        "translator_en2fil = pipeline(\"translation\", model = model_checkpoint_en2fil)\n",
        "translator_fil2en = pipeline(\"translation\", model = model_checkpoint_fil2en)"
      ],
      "metadata": {
        "id": "UbpB1P7xIG_h"
      },
      "execution_count": null,
      "outputs": []
    },
    {
      "cell_type": "markdown",
      "source": [
        "#3. **Translating the Text Input**"
      ],
      "metadata": {
        "id": "r1CrqiM6IKJT"
      }
    },
    {
      "cell_type": "code",
      "source": [
        "def transformer_en2fil(from_text):\n",
        "  results = translator_en2fil(from_text)\n",
        "  return results[0]['translation_text']"
      ],
      "metadata": {
        "id": "MpSoJUIuI3NU"
      },
      "execution_count": 12,
      "outputs": []
    },
    {
      "cell_type": "code",
      "source": [
        "def transformer_fil2en(from_text):\n",
        "  results = translator_fil2en(from_text)\n",
        "  return results[0]['translation_text']"
      ],
      "metadata": {
        "id": "zykqVr-MI34z"
      },
      "execution_count": 13,
      "outputs": []
    },
    {
      "cell_type": "code",
      "source": [
        "def check_lang(lang, from_text):\n",
        "  if lang == \"English-to-Filipino\":\n",
        "    return transformer_en2fil(from_text)\n",
        "  elif lang == \"Filipino-to-English\":\n",
        "    return transformer_fil2en(from_text)"
      ],
      "metadata": {
        "id": "RtzYLEaiI47L"
      },
      "execution_count": 14,
      "outputs": []
    },
    {
      "cell_type": "markdown",
      "source": [
        "#4. **Creating Gradio Interface**\n"
      ],
      "metadata": {
        "id": "g1OzJGGHJEL6"
      }
    },
    {
      "cell_type": "code",
      "source": [
        "interface = gr.Interface(\n",
        "  fn=check_lang, \n",
        "  inputs=[\n",
        "    gr.inputs.Radio([\"English-to-Filipino\", \"Filipino-to-English\"]),\n",
        "    gr.inputs.Textbox(lines=4, placeholder='Input Text to Translate:')],\n",
        "  outputs='text'\n",
        ")"
      ],
      "metadata": {
        "id": "nmmYMNQ9JNAK"
      },
      "execution_count": 15,
      "outputs": []
    },
    {
      "cell_type": "markdown",
      "source": [
        "#5. **Running the Test Version**"
      ],
      "metadata": {
        "id": "BEUTG92KJ4pi"
      }
    },
    {
      "cell_type": "code",
      "source": [
        "interface.launch(debug=True)"
      ],
      "metadata": {
        "id": "hr6nFqSxJ9K2",
        "colab": {
          "base_uri": "https://localhost:8080/",
          "height": 594
        },
        "outputId": "455b98c1-4ffd-4dcf-a30d-e02bf91d4f55"
      },
      "execution_count": null,
      "outputs": [
        {
          "output_type": "stream",
          "name": "stdout",
          "text": [
            "Colab notebook detected. This cell will run indefinitely so that you can see errors and logs. To turn off, set debug=False in launch().\n",
            "Running on public URL: https://33205.gradio.app\n",
            "\n",
            "This share link expires in 72 hours. For free permanent hosting, check out Spaces (https://huggingface.co/spaces)\n"
          ]
        },
        {
          "output_type": "display_data",
          "data": {
            "text/plain": [
              "<IPython.lib.display.IFrame at 0x7fa57a299f90>"
            ],
            "text/html": [
              "\n",
              "        <iframe\n",
              "            width=\"900\"\n",
              "            height=\"500\"\n",
              "            src=\"https://33205.gradio.app\"\n",
              "            frameborder=\"0\"\n",
              "            allowfullscreen\n",
              "        ></iframe>\n",
              "        "
            ]
          },
          "metadata": {}
        }
      ]
    }
  ],
  "metadata": {
    "colab": {
      "collapsed_sections": [],
      "name": "GradioTestVer1.ipynb",
      "provenance": []
    },
    "kernelspec": {
      "display_name": "Python 3",
      "name": "python3"
    },
    "language_info": {
      "name": "python"
    }
  },
  "nbformat": 4,
  "nbformat_minor": 0
}